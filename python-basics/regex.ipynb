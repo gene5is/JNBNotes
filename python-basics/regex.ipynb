{
 "cells": [
  {
   "cell_type": "code",
   "execution_count": 1,
   "id": "86140aca-dfad-41ad-897c-9fdf143d550d",
   "metadata": {},
   "outputs": [
    {
     "name": "stdout",
     "output_type": "stream",
     "text": [
      "匹配的邮箱地址: ['test@example.com', 'admin@openai.com']\n"
     ]
    }
   ],
   "source": [
    "# 正则表达式基础\n",
    "import re\n",
    "\n",
    "text = \"Email me at test@example.com and admin@openai.com\"\n",
    "\n",
    "pattern = r\"\\b[\\w.-]+@[\\w.-]+\\.\\w+\\b\"\n",
    "matches = re.findall(pattern, text)\n",
    "\n",
    "print(\"匹配的邮箱地址:\", matches)\n"
   ]
  },
  {
   "cell_type": "markdown",
   "id": "1d155957-ebe4-4003-af9e-93b63880cb09",
   "metadata": {},
   "source": [
    "# Python 正则表达式基础\n",
    "\n",
    "正则表达式（Regex）用于在字符串中进行模式匹配，非常适合处理文本数据。\n",
    "\n",
    "## 常用函数\n",
    "\n",
    "- `re.match()`: 从字符串开头开始匹配\n",
    "- `re.search()`: 搜索整个字符串\n",
    "- `re.findall()`: 返回所有匹配项\n",
    "- `re.sub()`: 替换匹配内容\n",
    "\n",
    "## 示例\n",
    "\n",
    "```python\n",
    "import re\n",
    "text = \"Call me at 123-456-7890\"\n",
    "pattern = r\"\\d{3}-\\d{3}-\\d{4}\"\n",
    "re.search(pattern, text)\n",
    "\n"
   ]
  },
  {
   "cell_type": "code",
   "execution_count": null,
   "id": "80cf912d-7070-42d2-96d1-00f7d6a641bb",
   "metadata": {},
   "outputs": [],
   "source": []
  }
 ],
 "metadata": {
  "kernelspec": {
   "display_name": "Python 3 (ipykernel)",
   "language": "python",
   "name": "python3"
  },
  "language_info": {
   "codemirror_mode": {
    "name": "ipython",
    "version": 3
   },
   "file_extension": ".py",
   "mimetype": "text/x-python",
   "name": "python",
   "nbconvert_exporter": "python",
   "pygments_lexer": "ipython3",
   "version": "3.13.3"
  }
 },
 "nbformat": 4,
 "nbformat_minor": 5
}
