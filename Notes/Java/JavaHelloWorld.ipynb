{
 "cells": [
  {
   "cell_type": "code",
   "execution_count": 1,
   "id": "be4b4007-a255-45c8-8b60-7915ede66dea",
   "metadata": {},
   "outputs": [
    {
     "name": "stdout",
     "output_type": "stream",
     "text": [
      "Hello world\n"
     ]
    }
   ],
   "source": [
    "System.out.println(\"Hello world\");"
   ]
  },
  {
   "cell_type": "code",
   "execution_count": null,
   "id": "eaa661d5-7fd0-4dec-bdd3-e597eead506d",
   "metadata": {},
   "outputs": [],
   "source": []
  }
 ],
 "metadata": {
  "kernelspec": {
   "display_name": "Java",
   "language": "java",
   "name": "java"
  },
  "language_info": {
   "codemirror_mode": "java",
   "file_extension": ".jshell",
   "mimetype": "text/x-java-source",
   "name": "Java",
   "pygments_lexer": "java",
   "version": "24+36-3646"
  }
 },
 "nbformat": 4,
 "nbformat_minor": 5
}
