{
 "cells": [
  {
   "cell_type": "code",
   "execution_count": 1,
   "id": "86140aca-dfad-41ad-897c-9fdf143d550d",
   "metadata": {},
   "outputs": [
    {
     "name": "stdout",
     "output_type": "stream",
     "text": [
      "匹配的邮箱地址: ['test@example.com', 'admin@openai.com']\n"
     ]
    }
   ],
   "source": [
    "import re\n",
    "\n",
    "text = \"Email me at test@example.com and admin@openai.com\"\n",
    "\n",
    "pattern = r\"\\b[\\w.-]+@[\\w.-]+\\.\\w+\\b\"\n",
    "matches = re.findall(pattern, text)\n",
    "\n",
    "print(\"匹配的邮箱地址:\", matches)\n"
   ]
  },
  {
   "cell_type": "markdown",
   "id": "1d155957-ebe4-4003-af9e-93b63880cb09",
   "metadata": {},
   "source": [
    "# Python 正则表达式基础\n",
    "\n",
    "正则表达式（Regex）用于在字符串中进行模式匹配，非常适合处理文本数据。\n",
    "\n",
    "## 常用函数\n",
    "\n",
    "- `re.match()`: 从字符串开头开始匹配\n",
    "- `re.search()`: 搜索整个字符串\n",
    "- `re.findall()`: 返回所有匹配项\n",
    "- `re.sub()`: 替换匹配内容\n",
    "\n",
    "## 示例\n",
    "\n",
    "```python\n",
    "import re\n",
    "text = \"Call me at 123-456-7890\"\n",
    "pattern = r\"\\d{3}-\\d{3}-\\d{4}\"\n",
    "re.search(pattern, text)\n",
    "\n"
   ]
  },
  {
   "cell_type": "markdown",
   "id": "6951855f-a23b-4bfa-a5d4-15f43882644f",
   "metadata": {},
   "source": [
    "#### 字符匹配\n",
    "- 普通字符：普通字符按照字面意义进行匹配，例如匹配字母 \"a\" 将匹配到文本中的 \"a\" 字符。\n",
    "- 元字符：元字符具有特殊的含义，例如 \\d 匹配任意数字字符，\\w 匹配任意字母数字字符，. 匹配任意字符（除了换行符）等。\n",
    "#### 量词\n",
    "- *：匹配前面的模式零次或多次。\n",
    "- +：匹配前面的模式一次或多次。\n",
    "- ?：匹配前面的模式零次或一次。\n",
    "- {n}：匹配前面的模式恰好 n 次。\n",
    "- {n,}：匹配前面的模式至少 n 次。\n",
    "- {n,m}：匹配前面的模式至少 n 次且不超过 m 次。\n",
    "#### 字符类\n",
    "- [ ]：匹配括号内的任意一个字符。例如，[abc] 匹配字符 \"a\"、\"b\" 或 \"c\"。\n",
    "- [^ ]：匹配除了括号内的字符以外的任意一个字符。例如，[^abc] 匹配除了字符 \"a\"、\"b\" 或 \"c\" 以外的任意字符。\n",
    "#### 边界匹配\n",
    "- ^：匹配字符串的开头。\n",
    "- $：匹配字符串的结尾。\n",
    "- \\b：匹配单词边界。\n",
    "- \\B：匹配非单词边界。\n",
    "#### 分组和捕获\n",
    "- ( )：用于分组和捕获子表达式。\n",
    "- (?: )：用于分组但不捕获子表达式。\n",
    "#### 特殊字符\n",
    "- \\：转义字符，用于匹配特殊字符本身。\n",
    "- .：匹配任意字符（除了换行符）。\n",
    "- |：用于指定多个模式的选择。"
   ]
  },
  {
   "cell_type": "code",
   "execution_count": 2,
   "id": "80cf912d-7070-42d2-96d1-00f7d6a641bb",
   "metadata": {},
   "outputs": [
    {
     "name": "stdout",
     "output_type": "stream",
     "text": [
      "Phone number found: 123-456-7890\n"
     ]
    }
   ],
   "source": [
    "import re\n",
    "# 创建正则表达式对象\n",
    "phone_number_regex = re.compile(r'\\d\\d\\d-\\d\\d\\d-\\d\\d\\d\\d')   # 传递原始字符串前边加 r\n",
    "mo = phone_number_regex.search(\"My number is 123-456-7890\")\n",
    "print('Phone number found: ' + mo.group())"
   ]
  },
  {
   "cell_type": "code",
   "execution_count": 4,
   "id": "f5e4d9af-2207-4b4d-9260-73e0996931ed",
   "metadata": {},
   "outputs": [
    {
     "name": "stdout",
     "output_type": "stream",
     "text": [
      "123\n",
      "456-7890\n",
      "123-456-7890\n",
      "123-456-7890\n"
     ]
    }
   ],
   "source": [
    "import re\n",
    "# 利用括号分组\n",
    "phone_number_regex = re.compile(r'(\\d\\d\\d)-(\\d\\d\\d-\\d\\d\\d\\d)')   # 传递原始字符串前边加 r\n",
    "mo = phone_number_regex.search(\"My number is 123-456-7890\")\n",
    "print(mo.group(1))\n",
    "print(mo.group(2))\n",
    "print(mo.group(0))\n",
    "print(mo.group())"
   ]
  },
  {
   "cell_type": "code",
   "execution_count": 8,
   "id": "e79e8441-ae35-4d3d-94aa-e858c25a37fc",
   "metadata": {},
   "outputs": [
    {
     "name": "stdout",
     "output_type": "stream",
     "text": [
      "(123)\n",
      "456-7890\n"
     ]
    }
   ],
   "source": [
    "import re\n",
    "# 匹配区号前的括号要转义\n",
    "phone_number_regex = re.compile(r'(\\(\\d\\d\\d\\)) (\\d\\d\\d-\\d\\d\\d\\d)')   # 传递原始字符串前边加 r\n",
    "mo = phone_number_regex.search(\"My number is (123) 456-7890\")\n",
    "print(mo.group(1))\n",
    "print(mo.group(2))"
   ]
  },
  {
   "cell_type": "code",
   "execution_count": 9,
   "id": "54c2525f-a662-4ba2-8e0c-9458436a7641",
   "metadata": {},
   "outputs": [
    {
     "name": "stdout",
     "output_type": "stream",
     "text": [
      "Batman\n",
      "Tina Fey\n"
     ]
    }
   ],
   "source": [
    "import re\n",
    "# 用管道符号|匹配多个分组\n",
    "hero_regex = re.compile(r'Batman|Tina Fey')\n",
    "mo1 = hero_regex.search('Batman and Tina Fey')\n",
    "print(mo1.group())\n",
    "mo2 = hero_regex.search('Tina Fey and Batman')\n",
    "print(mo2.group())"
   ]
  },
  {
   "cell_type": "code",
   "execution_count": 11,
   "id": "74cea247-f538-47b0-a628-d308a10dbdae",
   "metadata": {},
   "outputs": [
    {
     "name": "stdout",
     "output_type": "stream",
     "text": [
      "Batman\n",
      "Batwoman\n"
     ]
    }
   ],
   "source": [
    "import re \n",
    "# ? 实现可选匹配\n",
    "bat_regex = re.compile(r'Bat(wo)?man')\n",
    "mo1 = bat_regex.search('The Adventures of Batman')\n",
    "mo2 = bat_regex.search('The Adventures of Batwoman')\n",
    "print(mo1.group())\n",
    "print(mo2.group())"
   ]
  },
  {
   "cell_type": "code",
   "execution_count": 12,
   "id": "8902ac53-86b5-427d-bbed-1309c1b3d4b6",
   "metadata": {},
   "outputs": [
    {
     "name": "stdout",
     "output_type": "stream",
     "text": [
      "Batman\n",
      "Batwowowoman\n"
     ]
    }
   ],
   "source": [
    "import re\n",
    "# 用 * 匹配零次或多次\n",
    "bat_regex = re.compile(r'Bat(wo)*man')\n",
    "mo1 = bat_regex.search('The Adventures of Batman')\n",
    "mo2 = bat_regex.search('The Adventures of Batwowowoman')\n",
    "print(mo1.group())\n",
    "print(mo2.group())"
   ]
  },
  {
   "cell_type": "code",
   "execution_count": 13,
   "id": "42473ac4-d939-4f14-a72d-15133d20e070",
   "metadata": {},
   "outputs": [
    {
     "name": "stdout",
     "output_type": "stream",
     "text": [
      "True\n",
      "Batwowowoman\n"
     ]
    }
   ],
   "source": [
    "import re \n",
    "# 用 {} 匹配特定次数\n",
    "bat_regex = re.compile(r'Bat(wo){3}man')\n",
    "mo1 = bat_regex.search('The Adventures of Batman')\n",
    "mo2 = bat_regex.search('The Adventures of Batwowowoman')\n",
    "print(mo1==None)\n",
    "print(mo2.group())"
   ]
  },
  {
   "cell_type": "code",
   "execution_count": 15,
   "id": "805687ad-0c06-49a8-9fed-7dc7d16f0486",
   "metadata": {},
   "outputs": [
    {
     "name": "stdout",
     "output_type": "stream",
     "text": [
      "hahahahaha\n",
      "hahaha\n"
     ]
    }
   ],
   "source": [
    "# Python默认贪心匹配，即尽可能匹配最长的字符串\n",
    "import re\n",
    "greedy_ha_regex = re.compile(r'(ha){3,5}')\n",
    "mo1 = greedy_ha_regex.search('hahahahaha')\n",
    "nongreedy_ha_regex = re.compile(r'(ha){3,5}?')\n",
    "mo2 = nongreedy_ha_regex.search('hahahahaha')\n",
    "print(mo1.group())\n",
    "print(mo2.group())"
   ]
  },
  {
   "cell_type": "markdown",
   "id": "1fe2b303-68db-4a47-b66d-9a7ed91701ed",
   "metadata": {},
   "source": []
  }
 ],
 "metadata": {
  "kernelspec": {
   "display_name": "Python 3 (ipykernel)",
   "language": "python",
   "name": "python3"
  },
  "language_info": {
   "codemirror_mode": {
    "name": "ipython",
    "version": 3
   },
   "file_extension": ".py",
   "mimetype": "text/x-python",
   "name": "python",
   "nbconvert_exporter": "python",
   "pygments_lexer": "ipython3",
   "version": "3.13.3"
  }
 },
 "nbformat": 4,
 "nbformat_minor": 5
}
